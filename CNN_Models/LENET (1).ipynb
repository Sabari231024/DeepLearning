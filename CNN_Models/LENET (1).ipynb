{
  "nbformat": 4,
  "nbformat_minor": 0,
  "metadata": {
    "colab": {
      "provenance": [],
      "gpuType": "T4"
    },
    "kernelspec": {
      "name": "python3",
      "display_name": "Python 3"
    },
    "language_info": {
      "name": "python"
    },
    "accelerator": "GPU",
    "widgets": {
      "application/vnd.jupyter.widget-state+json": {
        "43b2846a152a411994a53fe56c961815": {
          "model_module": "@jupyter-widgets/controls",
          "model_name": "HBoxModel",
          "model_module_version": "1.5.0",
          "state": {
            "_dom_classes": [],
            "_model_module": "@jupyter-widgets/controls",
            "_model_module_version": "1.5.0",
            "_model_name": "HBoxModel",
            "_view_count": null,
            "_view_module": "@jupyter-widgets/controls",
            "_view_module_version": "1.5.0",
            "_view_name": "HBoxView",
            "box_style": "",
            "children": [
              "IPY_MODEL_36939645191d48cd8a6c6f291bb5bd8d",
              "IPY_MODEL_c68c0b18fc2c4d61804383d69f8f2db5",
              "IPY_MODEL_949c2c7e0fc2452e81dc525e62d40720"
            ],
            "layout": "IPY_MODEL_ad0a47d63b8d478b990998306e1342a6"
          }
        },
        "36939645191d48cd8a6c6f291bb5bd8d": {
          "model_module": "@jupyter-widgets/controls",
          "model_name": "HTMLModel",
          "model_module_version": "1.5.0",
          "state": {
            "_dom_classes": [],
            "_model_module": "@jupyter-widgets/controls",
            "_model_module_version": "1.5.0",
            "_model_name": "HTMLModel",
            "_view_count": null,
            "_view_module": "@jupyter-widgets/controls",
            "_view_module_version": "1.5.0",
            "_view_name": "HTMLView",
            "description": "",
            "description_tooltip": null,
            "layout": "IPY_MODEL_d7d32033f9a349e0bb5a13473ed7999b",
            "placeholder": "​",
            "style": "IPY_MODEL_0aa7ab95f12a44aaae7292e5465de105",
            "value": "100%"
          }
        },
        "c68c0b18fc2c4d61804383d69f8f2db5": {
          "model_module": "@jupyter-widgets/controls",
          "model_name": "FloatProgressModel",
          "model_module_version": "1.5.0",
          "state": {
            "_dom_classes": [],
            "_model_module": "@jupyter-widgets/controls",
            "_model_module_version": "1.5.0",
            "_model_name": "FloatProgressModel",
            "_view_count": null,
            "_view_module": "@jupyter-widgets/controls",
            "_view_module_version": "1.5.0",
            "_view_name": "ProgressView",
            "bar_style": "success",
            "description": "",
            "description_tooltip": null,
            "layout": "IPY_MODEL_98fe211b7c5142a6a570e4c4de0359d8",
            "max": 9,
            "min": 0,
            "orientation": "horizontal",
            "style": "IPY_MODEL_4f267ca2c5c64c959de4f911a919367c",
            "value": 9
          }
        },
        "949c2c7e0fc2452e81dc525e62d40720": {
          "model_module": "@jupyter-widgets/controls",
          "model_name": "HTMLModel",
          "model_module_version": "1.5.0",
          "state": {
            "_dom_classes": [],
            "_model_module": "@jupyter-widgets/controls",
            "_model_module_version": "1.5.0",
            "_model_name": "HTMLModel",
            "_view_count": null,
            "_view_module": "@jupyter-widgets/controls",
            "_view_module_version": "1.5.0",
            "_view_name": "HTMLView",
            "description": "",
            "description_tooltip": null,
            "layout": "IPY_MODEL_c86624af539c470ca31fb6155b5d2dcb",
            "placeholder": "​",
            "style": "IPY_MODEL_0230c3d431f14852a6e4c4a2909815f2",
            "value": " 9/9 [02:43&lt;00:00, 18.36s/it]"
          }
        },
        "ad0a47d63b8d478b990998306e1342a6": {
          "model_module": "@jupyter-widgets/base",
          "model_name": "LayoutModel",
          "model_module_version": "1.2.0",
          "state": {
            "_model_module": "@jupyter-widgets/base",
            "_model_module_version": "1.2.0",
            "_model_name": "LayoutModel",
            "_view_count": null,
            "_view_module": "@jupyter-widgets/base",
            "_view_module_version": "1.2.0",
            "_view_name": "LayoutView",
            "align_content": null,
            "align_items": null,
            "align_self": null,
            "border": null,
            "bottom": null,
            "display": null,
            "flex": null,
            "flex_flow": null,
            "grid_area": null,
            "grid_auto_columns": null,
            "grid_auto_flow": null,
            "grid_auto_rows": null,
            "grid_column": null,
            "grid_gap": null,
            "grid_row": null,
            "grid_template_areas": null,
            "grid_template_columns": null,
            "grid_template_rows": null,
            "height": null,
            "justify_content": null,
            "justify_items": null,
            "left": null,
            "margin": null,
            "max_height": null,
            "max_width": null,
            "min_height": null,
            "min_width": null,
            "object_fit": null,
            "object_position": null,
            "order": null,
            "overflow": null,
            "overflow_x": null,
            "overflow_y": null,
            "padding": null,
            "right": null,
            "top": null,
            "visibility": null,
            "width": null
          }
        },
        "d7d32033f9a349e0bb5a13473ed7999b": {
          "model_module": "@jupyter-widgets/base",
          "model_name": "LayoutModel",
          "model_module_version": "1.2.0",
          "state": {
            "_model_module": "@jupyter-widgets/base",
            "_model_module_version": "1.2.0",
            "_model_name": "LayoutModel",
            "_view_count": null,
            "_view_module": "@jupyter-widgets/base",
            "_view_module_version": "1.2.0",
            "_view_name": "LayoutView",
            "align_content": null,
            "align_items": null,
            "align_self": null,
            "border": null,
            "bottom": null,
            "display": null,
            "flex": null,
            "flex_flow": null,
            "grid_area": null,
            "grid_auto_columns": null,
            "grid_auto_flow": null,
            "grid_auto_rows": null,
            "grid_column": null,
            "grid_gap": null,
            "grid_row": null,
            "grid_template_areas": null,
            "grid_template_columns": null,
            "grid_template_rows": null,
            "height": null,
            "justify_content": null,
            "justify_items": null,
            "left": null,
            "margin": null,
            "max_height": null,
            "max_width": null,
            "min_height": null,
            "min_width": null,
            "object_fit": null,
            "object_position": null,
            "order": null,
            "overflow": null,
            "overflow_x": null,
            "overflow_y": null,
            "padding": null,
            "right": null,
            "top": null,
            "visibility": null,
            "width": null
          }
        },
        "0aa7ab95f12a44aaae7292e5465de105": {
          "model_module": "@jupyter-widgets/controls",
          "model_name": "DescriptionStyleModel",
          "model_module_version": "1.5.0",
          "state": {
            "_model_module": "@jupyter-widgets/controls",
            "_model_module_version": "1.5.0",
            "_model_name": "DescriptionStyleModel",
            "_view_count": null,
            "_view_module": "@jupyter-widgets/base",
            "_view_module_version": "1.2.0",
            "_view_name": "StyleView",
            "description_width": ""
          }
        },
        "98fe211b7c5142a6a570e4c4de0359d8": {
          "model_module": "@jupyter-widgets/base",
          "model_name": "LayoutModel",
          "model_module_version": "1.2.0",
          "state": {
            "_model_module": "@jupyter-widgets/base",
            "_model_module_version": "1.2.0",
            "_model_name": "LayoutModel",
            "_view_count": null,
            "_view_module": "@jupyter-widgets/base",
            "_view_module_version": "1.2.0",
            "_view_name": "LayoutView",
            "align_content": null,
            "align_items": null,
            "align_self": null,
            "border": null,
            "bottom": null,
            "display": null,
            "flex": null,
            "flex_flow": null,
            "grid_area": null,
            "grid_auto_columns": null,
            "grid_auto_flow": null,
            "grid_auto_rows": null,
            "grid_column": null,
            "grid_gap": null,
            "grid_row": null,
            "grid_template_areas": null,
            "grid_template_columns": null,
            "grid_template_rows": null,
            "height": null,
            "justify_content": null,
            "justify_items": null,
            "left": null,
            "margin": null,
            "max_height": null,
            "max_width": null,
            "min_height": null,
            "min_width": null,
            "object_fit": null,
            "object_position": null,
            "order": null,
            "overflow": null,
            "overflow_x": null,
            "overflow_y": null,
            "padding": null,
            "right": null,
            "top": null,
            "visibility": null,
            "width": null
          }
        },
        "4f267ca2c5c64c959de4f911a919367c": {
          "model_module": "@jupyter-widgets/controls",
          "model_name": "ProgressStyleModel",
          "model_module_version": "1.5.0",
          "state": {
            "_model_module": "@jupyter-widgets/controls",
            "_model_module_version": "1.5.0",
            "_model_name": "ProgressStyleModel",
            "_view_count": null,
            "_view_module": "@jupyter-widgets/base",
            "_view_module_version": "1.2.0",
            "_view_name": "StyleView",
            "bar_color": null,
            "description_width": ""
          }
        },
        "c86624af539c470ca31fb6155b5d2dcb": {
          "model_module": "@jupyter-widgets/base",
          "model_name": "LayoutModel",
          "model_module_version": "1.2.0",
          "state": {
            "_model_module": "@jupyter-widgets/base",
            "_model_module_version": "1.2.0",
            "_model_name": "LayoutModel",
            "_view_count": null,
            "_view_module": "@jupyter-widgets/base",
            "_view_module_version": "1.2.0",
            "_view_name": "LayoutView",
            "align_content": null,
            "align_items": null,
            "align_self": null,
            "border": null,
            "bottom": null,
            "display": null,
            "flex": null,
            "flex_flow": null,
            "grid_area": null,
            "grid_auto_columns": null,
            "grid_auto_flow": null,
            "grid_auto_rows": null,
            "grid_column": null,
            "grid_gap": null,
            "grid_row": null,
            "grid_template_areas": null,
            "grid_template_columns": null,
            "grid_template_rows": null,
            "height": null,
            "justify_content": null,
            "justify_items": null,
            "left": null,
            "margin": null,
            "max_height": null,
            "max_width": null,
            "min_height": null,
            "min_width": null,
            "object_fit": null,
            "object_position": null,
            "order": null,
            "overflow": null,
            "overflow_x": null,
            "overflow_y": null,
            "padding": null,
            "right": null,
            "top": null,
            "visibility": null,
            "width": null
          }
        },
        "0230c3d431f14852a6e4c4a2909815f2": {
          "model_module": "@jupyter-widgets/controls",
          "model_name": "DescriptionStyleModel",
          "model_module_version": "1.5.0",
          "state": {
            "_model_module": "@jupyter-widgets/controls",
            "_model_module_version": "1.5.0",
            "_model_name": "DescriptionStyleModel",
            "_view_count": null,
            "_view_module": "@jupyter-widgets/base",
            "_view_module_version": "1.2.0",
            "_view_name": "StyleView",
            "description_width": ""
          }
        }
      }
    }
  },
  "cells": [
    {
      "cell_type": "code",
      "execution_count": null,
      "metadata": {
        "id": "dzqriqI2SVB3"
      },
      "outputs": [],
      "source": [
        "import torch.nn as nn\n",
        "import pandas as pd\n",
        "import matplotlib.pyplot as plt\n",
        "from PIL import Image\n",
        "from torchvision.transforms import ToTensor\n",
        "from torch.utils.data import Dataset, DataLoader\n",
        "import torchvision.datasets as datasets"
      ]
    },
    {
      "cell_type": "markdown",
      "source": [
        "### DATA PREPARATION"
      ],
      "metadata": {
        "id": "vq3BR3sKUj2R"
      }
    },
    {
      "cell_type": "code",
      "source": [
        "##train ,test preparation\n",
        "train_data  = datasets.MNIST(root=\"train\",train=True,transform=ToTensor(),download=True)\n",
        "test_data = datasets.MNIST(root=\"test\",train=False,download=True,transform=ToTensor())"
      ],
      "metadata": {
        "colab": {
          "base_uri": "https://localhost:8080/"
        },
        "id": "YGoq1FqVUb_q",
        "outputId": "e9c70b30-8000-45e3-e8c9-dc02c740add6"
      },
      "execution_count": null,
      "outputs": [
        {
          "output_type": "stream",
          "name": "stdout",
          "text": [
            "Downloading http://yann.lecun.com/exdb/mnist/train-images-idx3-ubyte.gz\n",
            "Failed to download (trying next):\n",
            "HTTP Error 403: Forbidden\n",
            "\n",
            "Downloading https://ossci-datasets.s3.amazonaws.com/mnist/train-images-idx3-ubyte.gz\n",
            "Downloading https://ossci-datasets.s3.amazonaws.com/mnist/train-images-idx3-ubyte.gz to train/MNIST/raw/train-images-idx3-ubyte.gz\n"
          ]
        },
        {
          "output_type": "stream",
          "name": "stderr",
          "text": [
            "100%|██████████| 9912422/9912422 [00:00<00:00, 30923356.94it/s]\n"
          ]
        },
        {
          "output_type": "stream",
          "name": "stdout",
          "text": [
            "Extracting train/MNIST/raw/train-images-idx3-ubyte.gz to train/MNIST/raw\n",
            "\n",
            "Downloading http://yann.lecun.com/exdb/mnist/train-labels-idx1-ubyte.gz\n",
            "Failed to download (trying next):\n",
            "HTTP Error 403: Forbidden\n",
            "\n",
            "Downloading https://ossci-datasets.s3.amazonaws.com/mnist/train-labels-idx1-ubyte.gz\n",
            "Downloading https://ossci-datasets.s3.amazonaws.com/mnist/train-labels-idx1-ubyte.gz to train/MNIST/raw/train-labels-idx1-ubyte.gz\n"
          ]
        },
        {
          "output_type": "stream",
          "name": "stderr",
          "text": [
            "100%|██████████| 28881/28881 [00:00<00:00, 1108986.40it/s]\n"
          ]
        },
        {
          "output_type": "stream",
          "name": "stdout",
          "text": [
            "Extracting train/MNIST/raw/train-labels-idx1-ubyte.gz to train/MNIST/raw\n",
            "\n",
            "Downloading http://yann.lecun.com/exdb/mnist/t10k-images-idx3-ubyte.gz\n",
            "Failed to download (trying next):\n",
            "HTTP Error 403: Forbidden\n",
            "\n",
            "Downloading https://ossci-datasets.s3.amazonaws.com/mnist/t10k-images-idx3-ubyte.gz\n",
            "Downloading https://ossci-datasets.s3.amazonaws.com/mnist/t10k-images-idx3-ubyte.gz to train/MNIST/raw/t10k-images-idx3-ubyte.gz\n"
          ]
        },
        {
          "output_type": "stream",
          "name": "stderr",
          "text": [
            "100%|██████████| 1648877/1648877 [00:00<00:00, 12070840.32it/s]\n"
          ]
        },
        {
          "output_type": "stream",
          "name": "stdout",
          "text": [
            "Extracting train/MNIST/raw/t10k-images-idx3-ubyte.gz to train/MNIST/raw\n",
            "\n",
            "Downloading http://yann.lecun.com/exdb/mnist/t10k-labels-idx1-ubyte.gz\n",
            "Failed to download (trying next):\n",
            "HTTP Error 403: Forbidden\n",
            "\n",
            "Downloading https://ossci-datasets.s3.amazonaws.com/mnist/t10k-labels-idx1-ubyte.gz\n",
            "Downloading https://ossci-datasets.s3.amazonaws.com/mnist/t10k-labels-idx1-ubyte.gz to train/MNIST/raw/t10k-labels-idx1-ubyte.gz\n"
          ]
        },
        {
          "output_type": "stream",
          "name": "stderr",
          "text": [
            "100%|██████████| 4542/4542 [00:00<00:00, 6661024.04it/s]\n"
          ]
        },
        {
          "output_type": "stream",
          "name": "stdout",
          "text": [
            "Extracting train/MNIST/raw/t10k-labels-idx1-ubyte.gz to train/MNIST/raw\n",
            "\n",
            "Downloading http://yann.lecun.com/exdb/mnist/train-images-idx3-ubyte.gz\n",
            "Failed to download (trying next):\n",
            "HTTP Error 403: Forbidden\n",
            "\n",
            "Downloading https://ossci-datasets.s3.amazonaws.com/mnist/train-images-idx3-ubyte.gz\n",
            "Downloading https://ossci-datasets.s3.amazonaws.com/mnist/train-images-idx3-ubyte.gz to test/MNIST/raw/train-images-idx3-ubyte.gz\n"
          ]
        },
        {
          "output_type": "stream",
          "name": "stderr",
          "text": [
            "100%|██████████| 9912422/9912422 [00:00<00:00, 30470316.77it/s]\n"
          ]
        },
        {
          "output_type": "stream",
          "name": "stdout",
          "text": [
            "Extracting test/MNIST/raw/train-images-idx3-ubyte.gz to test/MNIST/raw\n",
            "\n",
            "Downloading http://yann.lecun.com/exdb/mnist/train-labels-idx1-ubyte.gz\n",
            "Failed to download (trying next):\n",
            "HTTP Error 403: Forbidden\n",
            "\n",
            "Downloading https://ossci-datasets.s3.amazonaws.com/mnist/train-labels-idx1-ubyte.gz\n",
            "Downloading https://ossci-datasets.s3.amazonaws.com/mnist/train-labels-idx1-ubyte.gz to test/MNIST/raw/train-labels-idx1-ubyte.gz\n"
          ]
        },
        {
          "output_type": "stream",
          "name": "stderr",
          "text": [
            "100%|██████████| 28881/28881 [00:00<00:00, 1214210.33it/s]\n"
          ]
        },
        {
          "output_type": "stream",
          "name": "stdout",
          "text": [
            "Extracting test/MNIST/raw/train-labels-idx1-ubyte.gz to test/MNIST/raw\n",
            "\n",
            "Downloading http://yann.lecun.com/exdb/mnist/t10k-images-idx3-ubyte.gz\n",
            "Failed to download (trying next):\n",
            "HTTP Error 403: Forbidden\n",
            "\n",
            "Downloading https://ossci-datasets.s3.amazonaws.com/mnist/t10k-images-idx3-ubyte.gz\n",
            "Downloading https://ossci-datasets.s3.amazonaws.com/mnist/t10k-images-idx3-ubyte.gz to test/MNIST/raw/t10k-images-idx3-ubyte.gz\n"
          ]
        },
        {
          "output_type": "stream",
          "name": "stderr",
          "text": [
            "100%|██████████| 1648877/1648877 [00:00<00:00, 10132179.55it/s]\n"
          ]
        },
        {
          "output_type": "stream",
          "name": "stdout",
          "text": [
            "Extracting test/MNIST/raw/t10k-images-idx3-ubyte.gz to test/MNIST/raw\n",
            "\n",
            "Downloading http://yann.lecun.com/exdb/mnist/t10k-labels-idx1-ubyte.gz\n",
            "Failed to download (trying next):\n",
            "HTTP Error 403: Forbidden\n",
            "\n",
            "Downloading https://ossci-datasets.s3.amazonaws.com/mnist/t10k-labels-idx1-ubyte.gz\n",
            "Downloading https://ossci-datasets.s3.amazonaws.com/mnist/t10k-labels-idx1-ubyte.gz to test/MNIST/raw/t10k-labels-idx1-ubyte.gz\n"
          ]
        },
        {
          "output_type": "stream",
          "name": "stderr",
          "text": [
            "100%|██████████| 4542/4542 [00:00<00:00, 5903479.63it/s]"
          ]
        },
        {
          "output_type": "stream",
          "name": "stdout",
          "text": [
            "Extracting test/MNIST/raw/t10k-labels-idx1-ubyte.gz to test/MNIST/raw\n",
            "\n"
          ]
        },
        {
          "output_type": "stream",
          "name": "stderr",
          "text": [
            "\n"
          ]
        }
      ]
    },
    {
      "cell_type": "code",
      "source": [
        "len(train_data.data) , len(test_data.data), len(train_data.targets),len(test_data.targets)"
      ],
      "metadata": {
        "colab": {
          "base_uri": "https://localhost:8080/"
        },
        "id": "Sta1sV5sVQSd",
        "outputId": "d41d3087-ed44-4e6b-bea6-4452daf426e0"
      },
      "execution_count": null,
      "outputs": [
        {
          "output_type": "execute_result",
          "data": {
            "text/plain": [
              "(60000, 10000, 60000, 10000)"
            ]
          },
          "metadata": {},
          "execution_count": 3
        }
      ]
    },
    {
      "cell_type": "code",
      "source": [
        "train_data.classes"
      ],
      "metadata": {
        "colab": {
          "base_uri": "https://localhost:8080/"
        },
        "id": "9BBhtNNzVsjX",
        "outputId": "79b4dea2-2cee-4a43-e009-89bb2f6098e7"
      },
      "execution_count": null,
      "outputs": [
        {
          "output_type": "execute_result",
          "data": {
            "text/plain": [
              "['0 - zero',\n",
              " '1 - one',\n",
              " '2 - two',\n",
              " '3 - three',\n",
              " '4 - four',\n",
              " '5 - five',\n",
              " '6 - six',\n",
              " '7 - seven',\n",
              " '8 - eight',\n",
              " '9 - nine']"
            ]
          },
          "metadata": {},
          "execution_count": 4
        }
      ]
    },
    {
      "cell_type": "code",
      "source": [
        "### visualize the data\n",
        "import torch\n",
        "random = torch.randint(0,len(train_data),size=[1]).item()\n",
        "image , label = train_data[random]\n",
        "plt.imshow(image.squeeze(),cmap='gray')\n",
        "plt.title(label)"
      ],
      "metadata": {
        "colab": {
          "base_uri": "https://localhost:8080/"
        },
        "id": "n3pgWXJhWedo",
        "outputId": "74de551c-8417-4b86-99c7-b43b18571537"
      },
      "execution_count": null,
      "outputs": [
        {
          "output_type": "execute_result",
          "data": {
            "text/plain": [
              "Text(0.5, 1.0, '6')"
            ]
          },
          "metadata": {},
          "execution_count": 5
        },
        {
          "output_type": "display_data",
          "data": {
            "text/plain": [
              "<Figure size 640x480 with 1 Axes>"
            ],
            "image/png": "[encoded data removed]"
          },
          "metadata": {}
        }
      ]
    },
    {
      "cell_type": "code",
      "source": [
        "##prepare DataLoader\n",
        "BATCH_SIZE=64\n",
        "train_loader = DataLoader(train_data,batch_size=BATCH_SIZE,shuffle=True)\n",
        "test_loader = DataLoader(test_data,batch_size=BATCH_SIZE,shuffle=True)"
      ],
      "metadata": {
        "id": "X3KLxT0IXL0y"
      },
      "execution_count": null,
      "outputs": []
    },
    {
      "cell_type": "code",
      "source": [
        "len(train_loader) # gives the total number of batches"
      ],
      "metadata": {
        "colab": {
          "base_uri": "https://localhost:8080/"
        },
        "id": "YTpW50iPYk46",
        "outputId": "7ef8d0f8-e956-402e-b02d-bfff7962b5be"
      },
      "execution_count": null,
      "outputs": [
        {
          "output_type": "execute_result",
          "data": {
            "text/plain": [
              "938"
            ]
          },
          "metadata": {},
          "execution_count": 7
        }
      ]
    },
    {
      "cell_type": "code",
      "source": [
        "## now check random random batch features as well as labels\n",
        "features , batch = next(iter(train_loader))\n",
        "features.shape"
      ],
      "metadata": {
        "colab": {
          "base_uri": "https://localhost:8080/"
        },
        "id": "rhJCAJS1YqIm",
        "outputId": "ab4f01db-4dac-47e4-c93c-2bad8d7c6b73"
      },
      "execution_count": null,
      "outputs": [
        {
          "output_type": "execute_result",
          "data": {
            "text/plain": [
              "torch.Size([64, 1, 28, 28])"
            ]
          },
          "metadata": {},
          "execution_count": 8
        }
      ]
    },
    {
      "cell_type": "markdown",
      "source": [
        "### MODEL BUILD"
      ],
      "metadata": {
        "id": "-gG-bSH5ZF6I"
      }
    },
    {
      "cell_type": "code",
      "source": [
        "class LENET(nn.Module):\n",
        "  def __init__(self,input:int,output:int,hidden:int):\n",
        "    super().__init__()\n",
        "    self.block1 = nn.Sequential(\n",
        "        nn.Conv2d(in_channels=input,out_channels=hidden,kernel_size=5,stride=2,padding=1),\n",
        "        nn.ReLU(),\n",
        "        nn.MaxPool2d(kernel_size=5,stride=2,padding=1)\n",
        "    )\n",
        "    self.block2 = nn.Sequential(\n",
        "        nn.Conv2d(in_channels=hidden,out_channels=hidden,kernel_size=2,stride=2),\n",
        "        nn.ReLU()\n",
        "    )\n",
        "    self.block3 = nn.Sequential(\n",
        "        nn.Flatten(),\n",
        "        nn.Linear(in_features=hidden*9,out_features=output)\n",
        "    )\n",
        "  def forward(self,x):\n",
        "    x=self.block1(x)\n",
        "    x=self.block2(x)\n",
        "    x=self.block3(x)\n",
        "    return x\n"
      ],
      "metadata": {
        "id": "zb2daS_KZFKm"
      },
      "execution_count": null,
      "outputs": []
    },
    {
      "cell_type": "code",
      "source": [
        "torch.manual_seed(42)\n",
        "model = LENET(input=1,output=10,hidden=16)"
      ],
      "metadata": {
        "id": "YT-M3Cr_Y_9S"
      },
      "execution_count": null,
      "outputs": []
    },
    {
      "cell_type": "code",
      "source": [
        "model"
      ],
      "metadata": {
        "colab": {
          "base_uri": "https://localhost:8080/"
        },
        "id": "OskfnJGwdsR_",
        "outputId": "fa333763-633f-4d8e-b3a8-838b2abb8856"
      },
      "execution_count": null,
      "outputs": [
        {
          "output_type": "execute_result",
          "data": {
            "text/plain": [
              "LENET(\n",
              "  (block1): Sequential(\n",
              "    (0): Conv2d(1, 16, kernel_size=(5, 5), stride=(2, 2), padding=(1, 1))\n",
              "    (1): ReLU()\n",
              "    (2): MaxPool2d(kernel_size=5, stride=2, padding=1, dilation=1, ceil_mode=False)\n",
              "  )\n",
              "  (block2): Sequential(\n",
              "    (0): Conv2d(16, 16, kernel_size=(2, 2), stride=(2, 2))\n",
              "    (1): ReLU()\n",
              "  )\n",
              "  (block3): Sequential(\n",
              "    (0): Flatten(start_dim=1, end_dim=-1)\n",
              "    (1): Linear(in_features=144, out_features=10, bias=True)\n",
              "  )\n",
              ")"
            ]
          },
          "metadata": {},
          "execution_count": 11
        }
      ]
    },
    {
      "cell_type": "code",
      "source": [
        "x_sample = torch.randn(size=(32,1,28,28))\n",
        "with torch.inference_mode():\n",
        "  y_logits = model(x_sample[0])\n",
        "  y_pred = torch.softmax(y_logits,dim=1).argmax(dim=1)\n",
        "  print(y_pred)"
      ],
      "metadata": {
        "colab": {
          "base_uri": "https://localhost:8080/"
        },
        "id": "-v-VvyZid4Jz",
        "outputId": "ae6449c2-21e1-45bd-8ed1-9206397eb797"
      },
      "execution_count": null,
      "outputs": [
        {
          "output_type": "stream",
          "name": "stdout",
          "text": [
            "tensor([2])\n"
          ]
        }
      ]
    },
    {
      "cell_type": "code",
      "source": [
        "## lets test it on random image\n",
        "features , label = next(iter(train_loader))\n",
        "with torch.inference_mode():\n",
        "  y_logits = model(features[0])\n",
        "  y_pred = torch.softmax(y_logits,dim=1).argmax(dim=1)\n",
        "  print(f\"The Label is ::{label[0]} for which my model predicted::{y_pred.item()}\")"
      ],
      "metadata": {
        "id": "IJHg79mUgAJO",
        "colab": {
          "base_uri": "https://localhost:8080/"
        },
        "outputId": "f2a47d7c-ba8f-4dc9-d8b8-060d47ec44e5"
      },
      "execution_count": null,
      "outputs": [
        {
          "output_type": "stream",
          "name": "stdout",
          "text": [
            "The Label is ::2 for which my model predicted::0\n"
          ]
        }
      ]
    },
    {
      "cell_type": "code",
      "source": [],
      "metadata": {
        "id": "lT9kaLR7fSS6"
      },
      "execution_count": null,
      "outputs": []
    },
    {
      "cell_type": "markdown",
      "source": [
        "### Training loop"
      ],
      "metadata": {
        "id": "UKFPV5RUfgNE"
      }
    },
    {
      "cell_type": "code",
      "source": [
        "##define optmizer and loss function\n",
        "loss_fn = nn.CrossEntropyLoss()\n",
        "optimizer = torch.optim.Adam(params=model.parameters(),lr=0.01)"
      ],
      "metadata": {
        "id": "0avPNK4-fh0Q"
      },
      "execution_count": null,
      "outputs": []
    },
    {
      "cell_type": "code",
      "source": [
        "## training loop\n",
        "from  tqdm.auto import tqdm\n",
        "torch.manual_seed(42)\n",
        "epochs = 9\n",
        "acc = []\n",
        "ls = []\n",
        "for epoch in tqdm(range(epochs)):\n",
        "  train_loss , train_Acc = 0,0\n",
        "  for batch , (x,y) in enumerate(train_loader):\n",
        "    model.train()\n",
        "    y_logits = model(x)\n",
        "    y_pred = torch.softmax(y_logits,dim=1).argmax(dim=1)\n",
        "    loss = loss_fn(y_logits,y)\n",
        "    optimizer.zero_grad()\n",
        "    loss.backward()\n",
        "    optimizer.step()\n",
        "    train_loss += loss.item()\n",
        "    train_Acc += (y_pred==y).sum().item()/len(y_pred)\n",
        "  train_loss /= len(train_loader)\n",
        "  train_Acc /= len(train_loader)\n",
        "  acc.append(train_Acc)\n",
        "  ls.append(train_loss)\n",
        "  print(f\"EPOCH:{epoch} | TRAIN_LOSS:{train_loss}\")"
      ],
      "metadata": {
        "colab": {
          "base_uri": "https://localhost:8080/",
          "height": 210,
          "referenced_widgets": [
            "43b2846a152a411994a53fe56c961815",
            "36939645191d48cd8a6c6f291bb5bd8d",
            "c68c0b18fc2c4d61804383d69f8f2db5",
            "949c2c7e0fc2452e81dc525e62d40720",
            "ad0a47d63b8d478b990998306e1342a6",
            "d7d32033f9a349e0bb5a13473ed7999b",
            "0aa7ab95f12a44aaae7292e5465de105",
            "98fe211b7c5142a6a570e4c4de0359d8",
            "4f267ca2c5c64c959de4f911a919367c",
            "c86624af539c470ca31fb6155b5d2dcb",
            "0230c3d431f14852a6e4c4a2909815f2"
          ]
        },
        "id": "GFODaOEqf59n",
        "outputId": "daed13f1-3fdc-4363-a160-dd0f8ff62aa7"
      },
      "execution_count": null,
      "outputs": [
        {
          "output_type": "display_data",
          "data": {
            "text/plain": [
              "  0%|          | 0/9 [00:00<?, ?it/s]"
            ],
            "application/vnd.jupyter.widget-view+json": {
              "version_major": 2,
              "version_minor": 0,
              "model_id": "43b2846a152a411994a53fe56c961815"
            }
          },
          "metadata": {}
        },
        {
          "output_type": "stream",
          "name": "stdout",
          "text": [
            "EPOCH:0 | TRAIN_LOSS:0.07297157187714862\n",
            "EPOCH:1 | TRAIN_LOSS:0.06820496398814284\n",
            "EPOCH:2 | TRAIN_LOSS:0.06819979292884179\n",
            "EPOCH:3 | TRAIN_LOSS:0.07223864772312305\n",
            "EPOCH:4 | TRAIN_LOSS:0.06977257169747744\n",
            "EPOCH:5 | TRAIN_LOSS:0.0665578535433535\n",
            "EPOCH:6 | TRAIN_LOSS:0.07152545284459844\n",
            "EPOCH:7 | TRAIN_LOSS:0.07278199333181011\n",
            "EPOCH:8 | TRAIN_LOSS:0.06636569212113362\n"
          ]
        }
      ]
    },
    {
      "cell_type": "code",
      "source": [],
      "metadata": {
        "id": "r1puwjOQhHlw"
      },
      "execution_count": null,
      "outputs": []
    },
    {
      "cell_type": "markdown",
      "source": [
        "### Inference to Model"
      ],
      "metadata": {
        "id": "TBr_kJ3TWPM7"
      }
    },
    {
      "cell_type": "code",
      "source": [
        "test_acc = 0\n",
        "model.eval()\n",
        "acc = []\n",
        "for x,y in test_loader:\n",
        "  with torch.inference_mode():\n",
        "    y_logits=model(x)\n",
        "    y_pred = torch.softmax(y_logits,dim=1).argmax(dim=1)\n",
        "    print(f\"The Label is ::{y[0]} for which my model predicted::{y_pred[0]}\")\n",
        "    test_acc += (y_pred==y).sum().item()/len(y_pred)\n",
        "    acc.append(test_acc)\n",
        "  test_acc /= len(test_loader)\n",
        "  print(f\"The Test Accuracy is ::{test_acc}\")"
      ],
      "metadata": {
        "colab": {
          "base_uri": "https://localhost:8080/"
        },
        "id": "BYQqC88gWTdP",
        "outputId": "a38b0e54-d380-4d78-b83e-b6084a05953c"
      },
      "execution_count": null,
      "outputs": [
        {
          "output_type": "stream",
          "name": "stdout",
          "text": [
            "The Label is ::5 for which my model predicted::5\n",
            "The Test Accuracy is ::0.006369426751592357\n",
            "The Label is ::1 for which my model predicted::1\n",
            "The Test Accuracy is ::0.006310474055742627\n",
            "The Label is ::0 for which my model predicted::0\n",
            "The Test Accuracy is ::0.006011531681883711\n",
            "The Label is ::6 for which my model predicted::6\n",
            "The Test Accuracy is ::0.006407716762304992\n",
            "The Label is ::0 for which my model predicted::0\n",
            "The Test Accuracy is ::0.006310717941161178\n",
            "The Label is ::4 for which my model predicted::4\n",
            "The Test Accuracy is ::0.006310100114274912\n",
            "The Label is ::0 for which my model predicted::0\n",
            "The Test Accuracy is ::0.0064096184720654455\n",
            "The Label is ::2 for which my model predicted::2\n",
            "The Test Accuracy is ::0.006012163174981309\n",
            "The Label is ::2 for which my model predicted::2\n",
            "The Test Accuracy is ::0.006009631612579499\n",
            "The Label is ::5 for which my model predicted::5\n",
            "The Test Accuracy is ::0.006308182366959105\n",
            "The Label is ::3 for which my model predicted::3\n",
            "The Test Accuracy is ::0.006210561671127128\n",
            "The Label is ::6 for which my model predicted::5\n",
            "The Test Accuracy is ::0.0063094621762492175\n",
            "The Label is ::0 for which my model predicted::0\n",
            "The Test Accuracy is ::0.006310092115772287\n",
            "The Label is ::8 for which my model predicted::8\n",
            "The Test Accuracy is ::0.0062105738351323075\n",
            "The Label is ::7 for which my model predicted::7\n",
            "The Test Accuracy is ::0.006209939960733327\n",
            "The Label is ::0 for which my model predicted::0\n",
            "The Test Accuracy is ::0.0062099359233167735\n",
            "The Label is ::6 for which my model predicted::6\n",
            "The Test Accuracy is ::0.0062099358976007435\n",
            "The Label is ::0 for which my model predicted::0\n",
            "The Test Accuracy is ::0.006309458190430578\n",
            "The Label is ::0 for which my model predicted::0\n",
            "The Test Accuracy is ::0.006409614383378539\n",
            "The Label is ::2 for which my model predicted::2\n",
            "The Test Accuracy is ::0.006310730027919608\n",
            "The Label is ::4 for which my model predicted::4\n",
            "The Test Accuracy is ::0.006409622484254265\n",
            "The Label is ::2 for which my model predicted::2\n",
            "The Test Accuracy is ::0.006310730079517543\n",
            "The Label is ::5 for which my model predicted::5\n",
            "The Test Accuracy is ::0.006310100191589283\n",
            "The Label is ::9 for which my model predicted::9\n",
            "The Test Accuracy is ::0.006409618472557894\n",
            "The Label is ::8 for which my model predicted::8\n",
            "The Test Accuracy is ::0.006410252346958968\n",
            "The Label is ::3 for which my model predicted::3\n",
            "The Test Accuracy is ::0.0064102563843755345\n",
            "The Label is ::9 for which my model predicted::9\n",
            "The Test Accuracy is ::0.0062112118241043025\n",
            "The Label is ::4 for which my model predicted::4\n",
            "The Test Accuracy is ::0.006309466317350983\n",
            "The Label is ::6 for which my model predicted::6\n",
            "The Test Accuracy is ::0.006111047556161471\n",
            "The Label is ::1 for which my model predicted::1\n",
            "The Test Accuracy is ::0.006308828328383194\n",
            "The Label is ::3 for which my model predicted::3\n",
            "The Test Accuracy is ::0.006310088078524734\n",
            "The Label is ::4 for which my model predicted::4\n",
            "The Test Accuracy is ::0.006310096102410985\n",
            "The Label is ::9 for which my model predicted::9\n",
            "The Test Accuracy is ::0.006310096153518541\n",
            "The Label is ::5 for which my model predicted::5\n",
            "The Test Accuracy is ::0.006310096153844067\n",
            "The Label is ::6 for which my model predicted::6\n",
            "The Test Accuracy is ::0.0060115292748652484\n",
            "The Label is ::8 for which my model predicted::8\n",
            "The Test Accuracy is ::0.006208672160986403\n",
            "The Label is ::6 for which my model predicted::6\n",
            "The Test Accuracy is ::0.00630945014115278\n",
            "The Label is ::6 for which my model predicted::6\n",
            "The Test Accuracy is ::0.006310092039115623\n",
            "The Label is ::6 for which my model predicted::8\n",
            "The Test Accuracy is ::0.006111051541650417\n",
            "The Label is ::0 for which my model predicted::0\n",
            "The Test Accuracy is ::0.006408350646762105\n",
            "The Label is ::9 for which my model predicted::9\n",
            "The Test Accuracy is ::0.006310721978641797\n",
            "The Label is ::5 for which my model predicted::5\n",
            "The Test Accuracy is ::0.006310100139991349\n",
            "The Label is ::5 for which my model predicted::5\n",
            "The Test Accuracy is ::0.006011529300254722\n",
            "The Label is ::4 for which my model predicted::4\n",
            "The Test Accuracy is ::0.00630819445414175\n",
            "The Label is ::0 for which my model predicted::0\n",
            "The Test Accuracy is ::0.006310084041109183\n",
            "The Label is ::3 for which my model predicted::3\n",
            "The Test Accuracy is ::0.006409618369688594\n",
            "The Label is ::4 for which my model predicted::4\n",
            "The Test Accuracy is ::0.0060121631743292265\n",
            "The Label is ::6 for which my model predicted::6\n",
            "The Test Accuracy is ::0.006109153905568976\n",
            "The Label is ::4 for which my model predicted::4\n",
            "The Test Accuracy is ::0.006308816266914452\n",
            "The Label is ::9 for which my model predicted::9\n",
            "The Test Accuracy is ::0.006011521122719201\n",
            "The Label is ::9 for which my model predicted::9\n",
            "The Test Accuracy is ::0.006407716695049167\n",
            "The Label is ::0 for which my model predicted::0\n",
            "The Test Accuracy is ::0.006310717940732797\n",
            "The Label is ::6 for which my model predicted::6\n",
            "The Test Accuracy is ::0.006210577821278553\n",
            "The Label is ::6 for which my model predicted::6\n",
            "The Test Accuracy is ::0.006209939986122793\n",
            "The Label is ::3 for which my model predicted::3\n",
            "The Test Accuracy is ::0.00630945821647212\n",
            "The Label is ::1 for which my model predicted::1\n",
            "The Test Accuracy is ::0.006409614383544409\n",
            "The Label is ::3 for which my model predicted::3\n",
            "The Test Accuracy is ::0.006211207734927034\n",
            "The Label is ::5 for which my model predicted::3\n",
            "The Test Accuracy is ::0.006110421705318007\n",
            "The Label is ::0 for which my model predicted::0\n",
            "The Test Accuracy is ::0.00630882434207209\n",
            "The Label is ::2 for which my model predicted::2\n",
            "The Test Accuracy is ::0.006409610346127848\n",
            "The Label is ::1 for which my model predicted::1\n",
            "The Test Accuracy is ::0.006111685416217375\n",
            "The Label is ::8 for which my model predicted::8\n",
            "The Test Accuracy is ::0.006408354684179728\n",
            "The Label is ::3 for which my model predicted::3\n",
            "The Test Accuracy is ::0.006310722004357833\n",
            "The Label is ::8 for which my model predicted::8\n",
            "The Test Accuracy is ::0.006210577847161515\n",
            "The Label is ::6 for which my model predicted::6\n",
            "The Test Accuracy is ::0.0062099399862876525\n",
            "The Label is ::6 for which my model predicted::6\n",
            "The Test Accuracy is ::0.006209935923479539\n",
            "The Label is ::1 for which my model predicted::1\n",
            "The Test Accuracy is ::0.005911369018620888\n",
            "The Label is ::2 for which my model predicted::2\n",
            "The Test Accuracy is ::0.006407078783558095\n",
            "The Label is ::0 for which my model predicted::0\n",
            "The Test Accuracy is ::0.006310713877602281\n",
            "The Label is ::3 for which my model predicted::3\n",
            "The Test Accuracy is ::0.006409622381386001\n",
            "The Label is ::1 for which my model predicted::1\n",
            "The Test Accuracy is ::0.006310730078862331\n",
            "The Label is ::0 for which my model predicted::6\n",
            "The Test Accuracy is ::0.00621057789859148\n",
            "The Label is ::8 for which my model predicted::8\n",
            "The Test Accuracy is ::0.006408984572602494\n",
            "The Label is ::4 for which my model predicted::4\n",
            "The Test Accuracy is ::0.006211203723392373\n",
            "The Label is ::2 for which my model predicted::2\n",
            "The Test Accuracy is ::0.006209943972760461\n",
            "The Label is ::4 for which my model predicted::4\n",
            "The Test Accuracy is ::0.006408980534858348\n",
            "The Label is ::4 for which my model predicted::4\n",
            "The Test Accuracy is ::0.006310725990667888\n",
            "The Label is ::6 for which my model predicted::6\n",
            "The Test Accuracy is ::0.006111055579558394\n",
            "The Label is ::0 for which my model predicted::0\n",
            "The Test Accuracy is ::0.006408350672481264\n",
            "The Label is ::0 for which my model predicted::0\n",
            "The Test Accuracy is ::0.0064102442717992435\n",
            "The Label is ::0 for which my model predicted::0\n",
            "The Test Accuracy is ::0.006310734039947766\n",
            "The Label is ::7 for which my model predicted::7\n",
            "The Test Accuracy is ::0.006310100216814954\n",
            "The Label is ::0 for which my model predicted::0\n",
            "The Test Accuracy is ::0.006210573886731306\n",
            "The Label is ::3 for which my model predicted::3\n",
            "The Test Accuracy is ::0.006209939961061983\n",
            "The Label is ::6 for which my model predicted::6\n",
            "The Test Accuracy is ::0.006110413630325236\n",
            "The Label is ::1 for which my model predicted::1\n",
            "The Test Accuracy is ::0.006209301997645384\n",
            "The Label is ::3 for which my model predicted::1\n",
            "The Test Accuracy is ::0.006209931859857614\n",
            "The Label is ::9 for which my model predicted::9\n",
            "The Test Accuracy is ::0.006209935871718838\n",
            "The Label is ::8 for which my model predicted::8\n",
            "The Test Accuracy is ::0.006408980483259356\n",
            "The Label is ::4 for which my model predicted::4\n",
            "The Test Accuracy is ::0.006211203697345601\n",
            "The Label is ::3 for which my model predicted::3\n",
            "The Test Accuracy is ::0.006309466265588188\n",
            "The Label is ::0 for which my model predicted::0\n",
            "The Test Accuracy is ::0.006409614434812664\n",
            "The Label is ::3 for which my model predicted::3\n",
            "The Test Accuracy is ::0.006111685442259954\n",
            "The Label is ::6 for which my model predicted::6\n",
            "The Test Accuracy is ::0.006308832391351974\n",
            "The Label is ::3 for which my model predicted::2\n",
            "The Test Accuracy is ::0.0063100881044035155\n",
            "The Label is ::9 for which my model predicted::9\n",
            "The Test Accuracy is ::0.006409618395569449\n",
            "The Label is ::4 for which my model predicted::4\n",
            "The Test Accuracy is ::0.0063107300534749645\n",
            "The Label is ::4 for which my model predicted::4\n",
            "The Test Accuracy is ::0.005812488726455255\n",
            "The Label is ::6 for which my model predicted::6\n",
            "The Test Accuracy is ::0.00640644897277997\n",
            "The Label is ::8 for which my model predicted::8\n",
            "The Test Accuracy is ::0.006111665280081401\n",
            "The Label is ::1 for which my model predicted::1\n",
            "The Test Accuracy is ::0.006408354555924086\n",
            "The Label is ::2 for which my model predicted::2\n",
            "The Test Accuracy is ::0.006012155124560025\n",
            "The Label is ::2 for which my model predicted::2\n",
            "The Test Accuracy is ::0.006208676147290191\n",
            "The Label is ::6 for which my model predicted::6\n",
            "The Test Accuracy is ::0.006309450166543249\n",
            "The Label is ::0 for which my model predicted::0\n",
            "The Test Accuracy is ::0.006011525160296454\n",
            "The Label is ::1 for which my model predicted::1\n",
            "The Test Accuracy is ::0.006407716720766219\n",
            "The Label is ::4 for which my model predicted::4\n",
            "The Test Accuracy is ::0.006012151061915708\n",
            "The Label is ::1 for which my model predicted::1\n",
            "The Test Accuracy is ::0.006308198414407106\n",
            "The Label is ::7 for which my model predicted::7\n",
            "The Test Accuracy is ::0.006409606359327434\n",
            "The Label is ::9 for which my model predicted::9\n",
            "The Test Accuracy is ::0.005912640804836481\n",
            "The Label is ::9 for which my model predicted::9\n",
            "The Test Accuracy is ::0.0061085200051263465\n",
            "The Label is ::1 for which my model predicted::2\n",
            "The Test Accuracy is ::0.006109767643344754\n",
            "The Label is ::4 for which my model predicted::4\n",
            "The Test Accuracy is ::0.005910731004097737\n",
            "The Label is ::9 for which my model predicted::9\n",
            "The Test Accuracy is ::0.006208030133784063\n",
            "The Label is ::9 for which my model predicted::3\n",
            "The Test Accuracy is ::0.006309446051807542\n",
            "The Label is ::4 for which my model predicted::4\n",
            "The Test Accuracy is ::0.0063100920130688375\n",
            "The Label is ::0 for which my model predicted::0\n",
            "The Test Accuracy is ::0.006111051541484515\n",
            "The Label is ::2 for which my model predicted::2\n",
            "The Test Accuracy is ::0.0062093060607737866\n",
            "The Label is ::3 for which my model predicted::3\n",
            "The Test Accuracy is ::0.006309454178731043\n",
            "The Label is ::6 for which my model predicted::6\n",
            "The Test Accuracy is ::0.006210569771839052\n",
            "The Label is ::2 for which my model predicted::2\n",
            "The Test Accuracy is ::0.006309462227846109\n",
            "The Label is ::8 for which my model predicted::8\n",
            "The Test Accuracy is ::0.006409614409094561\n",
            "The Label is ::6 for which my model predicted::6\n",
            "The Test Accuracy is ::0.006410252321077036\n",
            "The Label is ::4 for which my model predicted::4\n",
            "The Test Accuracy is ::0.00611168950522979\n",
            "The Label is ::4 for which my model predicted::4\n",
            "The Test Accuracy is ::0.006408354710224394\n",
            "The Label is ::3 for which my model predicted::3\n",
            "The Test Accuracy is ::0.0064102442975173535\n",
            "The Label is ::0 for which my model predicted::0\n",
            "The Test Accuracy is ::0.006410256333105206\n",
            "The Label is ::7 for which my model predicted::7\n",
            "The Test Accuracy is ::0.0063107341167713705\n",
            "The Label is ::3 for which my model predicted::3\n",
            "The Test Accuracy is ::0.0064096225102979075\n",
            "The Label is ::2 for which my model predicted::2\n",
            "The Test Accuracy is ::0.006211207786689796\n",
            "The Label is ::4 for which my model predicted::4\n",
            "The Test Accuracy is ::0.006110421705647706\n",
            "The Label is ::1 for which my model predicted::1\n",
            "The Test Accuracy is ::0.006209302049080558\n",
            "The Label is ::9 for which my model predicted::9\n",
            "The Test Accuracy is ::0.006309454153178857\n",
            "The Label is ::5 for which my model predicted::5\n",
            "The Test Accuracy is ::0.00640961435766356\n",
            "The Label is ::9 for which my model predicted::9\n",
            "The Test Accuracy is ::0.006111685441768557\n",
            "The Label is ::8 for which my model predicted::8\n",
            "The Test Accuracy is ::0.006209310098355214\n",
            "The Label is ::7 for which my model predicted::7\n",
            "The Test Accuracy is ::0.006110409618460861\n",
            "The Label is ::8 for which my model predicted::8\n",
            "The Test Accuracy is ::0.006209301972092108\n",
            "The Label is ::6 for which my model predicted::6\n",
            "The Test Accuracy is ::0.006408976445682116\n",
            "The Label is ::2 for which my model predicted::2\n",
            "The Test Accuracy is ::0.0063107259646221795\n",
            "The Label is ::0 for which my model predicted::0\n",
            "The Test Accuracy is ::0.00640962245837339\n",
            "The Label is ::9 for which my model predicted::9\n",
            "The Test Accuracy is ::0.006211207786359066\n",
            "The Label is ::2 for which my model predicted::2\n",
            "The Test Accuracy is ::0.0061104217056456\n",
            "The Label is ::4 for which my model predicted::4\n",
            "The Test Accuracy is ::0.006308824342074176\n",
            "The Label is ::7 for which my model predicted::7\n",
            "The Test Accuracy is ::0.006111043467146969\n",
            "The Label is ::1 for which my model predicted::1\n",
            "The Test Accuracy is ::0.006408350595332147\n",
            "The Label is ::3 for which my model predicted::3\n",
            "The Test Accuracy is ::0.006111677392326957\n",
            "The Label is ::0 for which my model predicted::0\n",
            "The Test Accuracy is ::0.006109787754091255\n",
            "The Label is ::5 for which my model predicted::5\n",
            "The Test Accuracy is ::0.006308820304166186\n",
            "The Label is ::7 for which my model predicted::7\n",
            "The Test Accuracy is ::0.006409610320408702\n",
            "The Label is ::2 for which my model predicted::2\n",
            "The Test Accuracy is ::0.006211207709047189\n",
            "The Label is ::6 for which my model predicted::6\n",
            "The Test Accuracy is ::0.006408988584134059\n",
            "The Label is ::4 for which my model predicted::4\n",
            "The Test Accuracy is ::0.00641024833493079\n",
            "The Label is ::9 for which my model predicted::9\n",
            "The Test Accuracy is ::0.005912644893853062\n",
            "The Label is ::3 for which my model predicted::3\n",
            "The Test Accuracy is ::0.006208042324164669\n",
            "The Label is ::7 for which my model predicted::7\n",
            "The Test Accuracy is ::0.006209923836459648\n",
            "The Label is ::9 for which my model predicted::9\n",
            "The Test Accuracy is ::0.006010891234627132\n"
          ]
        }
      ]
    },
    {
      "cell_type": "markdown",
      "source": [
        "### visualize prediction"
      ],
      "metadata": {
        "id": "69ar5W1-Yr_f"
      }
    },
    {
      "cell_type": "code",
      "source": [
        "x,y = next(iter(test_loader))\n",
        "with torch.inference_mode():\n",
        "  y_logits = model(x)\n",
        "  y_pred = torch.softmax(y_logits,dim=1).argmax(dim=1)\n",
        "  plt.imshow(x[0].squeeze(),cmap='gray')\n",
        "  plt.title(f\"Actual::{y[0]} Predicted::{y_pred[0]}\")"
      ],
      "metadata": {
        "colab": {
          "base_uri": "https://localhost:8080/",
          "height": 452
        },
        "id": "0oy4pO56XCKt",
        "outputId": "55edac32-7113-4413-aaff-54d4c8710428"
      },
      "execution_count": null,
      "outputs": [
        {
          "output_type": "display_data",
          "data": {
            "text/plain": [
              "<Figure size 640x480 with 1 Axes>"
            ],
            "image/png": "[encoded data removed]"
          },
          "metadata": {}
        }
      ]
    },
    {
      "cell_type": "code",
      "source": [
        "acc[:5] , ls[:5]"
      ],
      "metadata": {
        "colab": {
          "base_uri": "https://localhost:8080/"
        },
        "id": "_i9yddVHYQWX",
        "outputId": "ee1fe601-9b27-4900-eb17-85b1c299f695"
      },
      "execution_count": null,
      "outputs": [
        {
          "output_type": "execute_result",
          "data": {
            "text/plain": [
              "([0.9790445095948828,\n",
              "  0.9801106076759062,\n",
              "  0.98042710554371,\n",
              "  0.9787946428571429,\n",
              "  0.980293843283582],\n",
              " [0.07297157187714862,\n",
              "  0.06820496398814284,\n",
              "  0.06819979292884179,\n",
              "  0.07223864772312305,\n",
              "  0.06977257169747744])"
            ]
          },
          "metadata": {},
          "execution_count": 26
        }
      ]
    },
    {
      "cell_type": "code",
      "source": [
        "fig, ax = plt.subplots()\n",
        "num_epochs = len(acc)\n",
        "ax.set_xlabel('Epoch')\n",
        "ax.set_ylabel('Loss / Accuracy')\n",
        "ax.plot(range(1, num_epochs + 1), acc, label='Accuracy')\n",
        "ax.plot(range(1, num_epochs + 1), ls, label='Loss')\n",
        "ax.legend()\n",
        "\n",
        "plt.show()\n"
      ],
      "metadata": {
        "colab": {
          "base_uri": "https://localhost:8080/",
          "height": 449
        },
        "id": "ohhojjhXZLK-",
        "outputId": "373639d5-8494-47ad-c6b3-dae43eb843e7"
      },
      "execution_count": null,
      "outputs": [
        {
          "output_type": "display_data",
          "data": {
            "text/plain": [
              "<Figure size 640x480 with 1 Axes>"
            ],
            "image/png": "[encoded data removed]"
          },
          "metadata": {}
        }
      ]
    },
    {
      "cell_type": "code",
      "source": [
        "torch.save(model,\"lenet_model.pth\")"
      ],
      "metadata": {
        "id": "4Pb1N0bZbfL5"
      },
      "execution_count": null,
      "outputs": []
    },
    {
      "cell_type": "code",
      "source": [
        "torch.save(model.state_dict(),\"lenet_model_state.pth\")"
      ],
      "metadata": {
        "id": "u6t22PYgcuPB"
      },
      "execution_count": null,
      "outputs": []
    },
    {
      "cell_type": "code",
      "source": [
        "model1 = torch.load(\"lenet_model.pth\")\n",
        "model1.load_state_dict(torch.load(\"lenet_model_state.pth\"))"
      ],
      "metadata": {
        "colab": {
          "base_uri": "https://localhost:8080/"
        },
        "id": "WFyo9dDEdrQP",
        "outputId": "1e283879-bee9-46d4-99fa-1f87bbfd61a6"
      },
      "execution_count": null,
      "outputs": [
        {
          "output_type": "stream",
          "name": "stderr",
          "text": [
            "<ipython-input-34-aea67e107ca5>:1: FutureWarning: You are using `torch.load` with `weights_only=False` (the current default value), which uses the default pickle module implicitly. It is possible to construct malicious pickle data which will execute arbitrary code during unpickling (See https://github.com/pytorch/pytorch/blob/main/SECURITY.md#untrusted-models for more details). In a future release, the default value for `weights_only` will be flipped to `True`. This limits the functions that could be executed during unpickling. Arbitrary objects will no longer be allowed to be loaded via this mode unless they are explicitly allowlisted by the user via `torch.serialization.add_safe_globals`. We recommend you start setting `weights_only=True` for any use case where you don't have full control of the loaded file. Please open an issue on GitHub for any issues related to this experimental feature.\n",
            "  model1 = torch.load(\"lenet_model.pth\")\n",
            "<ipython-input-34-aea67e107ca5>:2: FutureWarning: You are using `torch.load` with `weights_only=False` (the current default value), which uses the default pickle module implicitly. It is possible to construct malicious pickle data which will execute arbitrary code during unpickling (See https://github.com/pytorch/pytorch/blob/main/SECURITY.md#untrusted-models for more details). In a future release, the default value for `weights_only` will be flipped to `True`. This limits the functions that could be executed during unpickling. Arbitrary objects will no longer be allowed to be loaded via this mode unless they are explicitly allowlisted by the user via `torch.serialization.add_safe_globals`. We recommend you start setting `weights_only=True` for any use case where you don't have full control of the loaded file. Please open an issue on GitHub for any issues related to this experimental feature.\n",
            "  model1.load_state_dict(torch.load(\"lenet_model_state.pth\"))\n"
          ]
        },
        {
          "output_type": "execute_result",
          "data": {
            "text/plain": [
              "<All keys matched successfully>"
            ]
          },
          "metadata": {},
          "execution_count": 34
        }
      ]
    },
    {
      "cell_type": "code",
      "source": [],
      "metadata": {
        "id": "WJPB9qdDdytT"
      },
      "execution_count": null,
      "outputs": []
    }
  ]
}